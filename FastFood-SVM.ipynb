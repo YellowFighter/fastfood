{
 "cells": [
  {
   "cell_type": "markdown",
   "metadata": {},
   "source": [
    "#Fast Food SVM\n",
    "Application of the Fast Food kernel expansion algorithm to SVMs.\n",
    "\n",
    "Code ported from MATLAB implementation:\n",
    " * Ji Zhao, Deyu Meng. FastMMD: Ensemble of Circular Discrepancy for Efficient Two-Sample Test. Neural Computation, 2015. "
   ]
  },
  {
   "cell_type": "code",
   "execution_count": 1,
   "metadata": {
    "collapsed": false
   },
   "outputs": [
    {
     "name": "stdout",
     "output_type": "stream",
     "text": [
      "Shape of X1: (100, 32)\n",
      "Shape of y: (32,)\n"
     ]
    }
   ],
   "source": [
    "from __future__ import division, print_function\n",
    "%matplotlib inline\n",
    "import matplotlib\n",
    "import matplotlib.pyplot as plt\n",
    "#import pylab as pl\n",
    "#import theano\n",
    "#import theano.tensor as T\n",
    "import numpy as np\n",
    "from numpy.linalg import norm\n",
    "#import pandas as pd\n",
    "#import sklearn.datasets\n",
    "from sklearn import svm\n",
    "from scipy.linalg import hadamard\n",
    "from scipy.special import gammaincinv\n",
    "from functools import partial\n",
    "from collections import namedtuple\n",
    "\n",
    "VERBOSE = True  # increases verbosity of some outputs\n",
    "\n",
    "d = 100 # dimension of input pattern\n",
    "n = d*20 # basis number used for approximation\n",
    "sgm = 10 # bandwidth for Gaussian kernel\n",
    "N = 32 # number of input patterns\n",
    "\n",
    "# random number generator\n",
    "rng = np.random.RandomState()\n",
    "\n",
    "# load data\n",
    "X1 = rng.normal(size=(d,N))\n",
    "print('Shape of X1:',X1.shape)\n",
    "y = rng.choice([0,1],size=N)\n",
    "print('Shape of y:',y.shape)\n",
    "\n",
    "# pad with zeros so d is nearest power of 2\n",
    "# N = X.shape[0]\n",
    "# l = X.shape[1]\n",
    "# print('Original shape of X: n =',N,', d =',l)\n",
    "# d = int(2 ** np.ceil(np.log2(l)))\n",
    "# if d != l:  # pad only if needed\n",
    "#     print('Padding input from d =',l,'to d =',d)\n",
    "#     X = np.pad(X,((0,d-l),(0,0)),mode='constant',constant_values=0)\n",
    "    \n",
    "# convert to shared tensors\n",
    "#X = theano.shared(X,name='X',borrow=True)\n",
    "#y = theano.shared(y,name='y',borrow=True)"
   ]
  },
  {
   "cell_type": "code",
   "execution_count": 2,
   "metadata": {
    "collapsed": false
   },
   "outputs": [
    {
     "name": "stdout",
     "output_type": "stream",
     "text": [
      "Ready to generate fastfood params\n"
     ]
    }
   ],
   "source": [
    "FFPara = namedtuple('FFPara', 'B G PI S')\n",
    "def fastfood_params(n,d):\n",
    "    d0 = d\n",
    "    n0 = n\n",
    "    l = int(np.ceil(np.log2(d)))\n",
    "    d = 2**l\n",
    "    k = int(np.ceil(n/d))\n",
    "    n = d*k\n",
    "#     print('d0 =',d0,', d =',d)\n",
    "#     print('n0 =',n,', n =',n)\n",
    "    \n",
    "    B = []\n",
    "    G = []\n",
    "    PI = []\n",
    "    S = []\n",
    "    for ii in xrange(k):\n",
    "        B_ii  = rng.choice([-1,1],size=d)\n",
    "        G_ii  = rng.normal(size=d)\n",
    "        PI_ii = rng.permutation(d)\n",
    "        \n",
    "        B.append(B_ii)\n",
    "        G.append(G_ii)\n",
    "        PI.append(PI_ii)\n",
    "        \n",
    "        p1 = rng.uniform(size=d)\n",
    "        p2 = d/2\n",
    "#        print('p1 =',p1,'; p2 =',p2)\n",
    "        T = gammaincinv(p2,p1)\n",
    "#        print('T1 =',T)\n",
    "        T = (T*2) ** (1/2)\n",
    "#        print('T2 =',T)\n",
    "        s_i = T * norm(G,'fro')**(-1)\n",
    "#        print('s_i =', s_i)\n",
    "        S_ii = s_i\n",
    "        S.append(S_ii)\n",
    "    \n",
    "    S1 = np.zeros(n)\n",
    "    for ii in xrange(k):\n",
    "        S1[ii*d:(ii+1)*d] = S[ii]\n",
    "    \n",
    "#    print('Shape of B:',len(B),', B[0]:',B[0].shape)\n",
    "    \n",
    "    return FFPara(B, G, PI, S1)\n",
    "print('Ready to generate fastfood params')"
   ]
  },
  {
   "cell_type": "code",
   "execution_count": 3,
   "metadata": {
    "collapsed": false
   },
   "outputs": [],
   "source": [
    "def bit_reverse_traverse(a):\n",
    "    # (c) 2014 Ryan Compton\n",
    "    # ryancompton.net/2014/06/05/bit-reversal-permutation-in-python/\n",
    "    n = a.shape[0]\n",
    "    assert(not n&(n-1) ) # assert that n is a power of 2\n",
    "    if n == 1:\n",
    "        yield a[0]\n",
    "    else:\n",
    "        even_index = np.arange(int(n/2))*2\n",
    "        odd_index = np.arange(int(n/2))*2 + 1\n",
    "        for even in bit_reverse_traverse(a[even_index]):\n",
    "            yield even\n",
    "        for odd in bit_reverse_traverse(a[odd_index]):\n",
    "            yield odd\n",
    "\n",
    "def get_bit_reversed_list(l):\n",
    "    # (c) 2014 Ryan Compton\n",
    "    # ryancompton.net/2014/06/05/bit-reversal-permutation-in-python/\n",
    "    n = len(l)\n",
    "#    print('n=',n)\n",
    "    indexs = np.arange(n)\n",
    "    b = []\n",
    "    for i in bit_reverse_traverse(indexs):\n",
    "        b.append(l[i])\n",
    "    return b\n",
    "\n",
    "def FWHT(X):\n",
    "    # Fast Walsh-Hadamard Transform for 1D signals\n",
    "    # of length n=2^M only (non error-proof for now)\n",
    "    x=get_bit_reversed_list(X)\n",
    "    x=np.array(x)\n",
    "    N=len(X)\n",
    " \n",
    "    for i in range(0,N,2):\n",
    "        x[i]=x[i]+x[i+1]\n",
    "        x[i+1]=x[i]-2*x[i+1]\n",
    " \n",
    "    L=1\n",
    "    y=np.zeros_like(x)\n",
    "    for n in range(2,int(np.log2(N))+1):\n",
    "        M=2**L\n",
    "        J=0; K=0\n",
    "        while(K<N):\n",
    "            for j in range(J,J+M,2):\n",
    "                y[K]   = x[j]   + x[j+M]\n",
    "                y[K+1] = x[j]   - x[j+M]\n",
    "                y[K+2] = x[j+1] + x[j+1+M]\n",
    "                y[K+3] = x[j+1] - x[j+1+M]\n",
    "                K=K+4\n",
    "            J=J+2*M\n",
    "        x=y.copy()\n",
    "        L=L+1\n",
    " \n",
    "    y=x/float(N)\n",
    "    \n",
    "    return y\n",
    "\n",
    "def fastfood_forkernel(X,para,sgm,use_spiral=False):\n",
    "    d0, m = X.shape\n",
    "#    print('d0 =',d0,', m =',m)\n",
    "    l = int(np.ceil(np.log2(d0)))\n",
    "    d = 2**l\n",
    "    if d == d0:\n",
    "        XX = X\n",
    "    else:\n",
    "        XX = np.zeros((d,m))\n",
    "        XX[0:d0,:] = X\n",
    "#    print('Shape of XX:',XX.shape)\n",
    "    \n",
    "    k = len(para.B)\n",
    "    n = d*k\n",
    "    tht = np.zeros((n,m))\n",
    "    for ii in xrange(k):\n",
    "        B = para.B[ii]\n",
    "        G = para.G[ii]\n",
    "        PI = para.PI[ii]\n",
    "#        XX = np.dot(B,XX)\n",
    "        XX = (B * XX.T).T\n",
    "        T = FWHT(XX)\n",
    "        T = T[PI,:]\n",
    "#        print('T.shape:',T.shape,',(G*d).shape:',(G*d).shape)\n",
    "        T = (G*d) * T.T\n",
    "#        print('T.shape:',T.shape)\n",
    "        T = FWHT(T)\n",
    "#        print('T.shape:',T.shape)\n",
    "        idx1 = ii*d\n",
    "        idx2=(ii+1)*d\n",
    "#        print('idx1=',idx1,',idx2=',idx2)\n",
    "        tht[idx1:idx2,:] = T.T\n",
    "        \n",
    "    S = para.S\n",
    "    tht = (S*np.sqrt(d) * tht.T).T\n",
    "    \n",
    "    T = tht/sgm\n",
    "    phi = np.concatenate([np.cos(T),np.sin(T)],axis=1)\n",
    "    phi = 1.0/np.sqrt(n) * phi\n",
    "    return phi,tht"
   ]
  },
  {
   "cell_type": "code",
   "execution_count": 4,
   "metadata": {
    "collapsed": false
   },
   "outputs": [],
   "source": [
    "def ff_kernel(para,sgm,x1,x2):\n",
    "    # TODO use the precomputed Gram matrix rather than calculating K(x,y) individually\n",
    "    X = np.hstack((x1,x2))\n",
    "    phi, tht = fastfood_forkernel(X,para,sgm)\n",
    "    K_appro = np.dot(phi[0].T,phi[1])\n",
    "    return K_appro"
   ]
  },
  {
   "cell_type": "code",
   "execution_count": 5,
   "metadata": {
    "collapsed": false
   },
   "outputs": [
    {
     "name": "stdout",
     "output_type": "stream",
     "text": [
      "X1.shape: (100, 32)\n",
      "len(phi1) = 2048 phi1 = [[  7.05261908e-03   2.17331225e-02  -8.51596122e-04 ...,   1.44190182e-02\n",
      "   -1.33995189e-02  -2.14394186e-02]\n",
      " [  1.77706225e-02   1.62938549e-03  -4.83171336e-03 ...,  -1.81884982e-02\n",
      "    3.15837901e-03   2.13758921e-02]\n",
      " [ -1.74252523e-02   1.26544444e-03   8.15230688e-03 ...,  -1.26163318e-03\n",
      "    3.20572941e-03  -1.65296868e-02]\n",
      " ..., \n",
      " [  2.18951606e-02   2.20579326e-02   2.17347369e-02 ...,  -1.28089417e-04\n",
      "   -6.01131713e-06   4.48465488e-03]\n",
      " [  1.35215802e-02   2.20773511e-02   1.30559128e-02 ...,  -1.40846187e-02\n",
      "    9.48046277e-03  -1.08866426e-02]\n",
      " [  2.12485935e-02   1.93784821e-02   2.20207257e-02 ...,   2.52170251e-03\n",
      "    7.01250423e-03  -6.60475887e-04]]\n",
      "len(tht1) = 2048 , tht1 = [[ -5.03723737e+01   1.81750175e+00   1.60934471e+01 ...,   7.10918798e+00\n",
      "   -2.49007611e+01   4.46780161e+01]\n",
      " [  6.36457018e+00  -1.49699177e+01  -1.79123570e+01 ...,  -9.66879118e+00\n",
      "    1.43423119e+00   1.31460637e+01]\n",
      " [  2.47928765e+01   1.51349750e+01   1.19293739e+01 ...,  -5.71260658e-01\n",
      "    1.45588524e+00  -8.45116197e+00]\n",
      " ..., \n",
      " [  1.35292968e+00   5.95389770e-01   1.81345534e+00 ...,  -5.79669778e-02\n",
      "   -2.72041162e-03   2.04372044e+00]\n",
      " [  9.12314419e+00  -4.22675402e-01   9.38692792e+00 ...,  -6.91115462e+00\n",
      "    4.43426145e+00  -5.15158984e+00]\n",
      " [  2.78016957e+00  -5.01276229e+00  -8.31589619e-01 ...,   1.14368391e+00\n",
      "    3.22933426e+00  -2.98941790e-01]]\n"
     ]
    },
    {
     "ename": "ValueError",
     "evalue": "operands could not be broadcast together with shapes (128,) (200,32) ",
     "output_type": "error",
     "traceback": [
      "\u001b[0;31m---------------------------------------------------------------------------\u001b[0m",
      "\u001b[0;31mValueError\u001b[0m                                Traceback (most recent call last)",
      "\u001b[0;32m<ipython-input-5-58ff357d3543>\u001b[0m in \u001b[0;36m<module>\u001b[0;34m()\u001b[0m\n\u001b[1;32m     12\u001b[0m \u001b[0mmy_kernel\u001b[0m \u001b[0;34m=\u001b[0m \u001b[0;32mlambda\u001b[0m \u001b[0mx1\u001b[0m\u001b[0;34m,\u001b[0m\u001b[0mx2\u001b[0m\u001b[0;34m:\u001b[0m \u001b[0mff_kernel\u001b[0m\u001b[0;34m(\u001b[0m\u001b[0mpara\u001b[0m\u001b[0;34m,\u001b[0m\u001b[0msgm\u001b[0m\u001b[0;34m,\u001b[0m\u001b[0mx1\u001b[0m\u001b[0;34m,\u001b[0m\u001b[0mx2\u001b[0m\u001b[0;34m)\u001b[0m\u001b[0;34m\u001b[0m\u001b[0m\n\u001b[1;32m     13\u001b[0m \u001b[0mclf\u001b[0m \u001b[0;34m=\u001b[0m \u001b[0msvm\u001b[0m\u001b[0;34m.\u001b[0m\u001b[0mSVC\u001b[0m\u001b[0;34m(\u001b[0m\u001b[0mkernel\u001b[0m\u001b[0;34m=\u001b[0m\u001b[0mmy_kernel\u001b[0m\u001b[0;34m)\u001b[0m\u001b[0;34m\u001b[0m\u001b[0m\n\u001b[0;32m---> 14\u001b[0;31m \u001b[0mclf\u001b[0m\u001b[0;34m.\u001b[0m\u001b[0mfit\u001b[0m\u001b[0;34m(\u001b[0m\u001b[0mX1\u001b[0m\u001b[0;34m.\u001b[0m\u001b[0mT\u001b[0m\u001b[0;34m,\u001b[0m\u001b[0my\u001b[0m\u001b[0;34m)\u001b[0m\u001b[0;34m\u001b[0m\u001b[0m\n\u001b[0m",
      "\u001b[0;32m/Library/Python/2.7/site-packages/sklearn/svm/base.pyc\u001b[0m in \u001b[0;36mfit\u001b[0;34m(self, X, y, sample_weight)\u001b[0m\n\u001b[1;32m    176\u001b[0m \u001b[0;34m\u001b[0m\u001b[0m\n\u001b[1;32m    177\u001b[0m         \u001b[0mseed\u001b[0m \u001b[0;34m=\u001b[0m \u001b[0mrnd\u001b[0m\u001b[0;34m.\u001b[0m\u001b[0mrandint\u001b[0m\u001b[0;34m(\u001b[0m\u001b[0mnp\u001b[0m\u001b[0;34m.\u001b[0m\u001b[0miinfo\u001b[0m\u001b[0;34m(\u001b[0m\u001b[0;34m'i'\u001b[0m\u001b[0;34m)\u001b[0m\u001b[0;34m.\u001b[0m\u001b[0mmax\u001b[0m\u001b[0;34m)\u001b[0m\u001b[0;34m\u001b[0m\u001b[0m\n\u001b[0;32m--> 178\u001b[0;31m         \u001b[0mfit\u001b[0m\u001b[0;34m(\u001b[0m\u001b[0mX\u001b[0m\u001b[0;34m,\u001b[0m \u001b[0my\u001b[0m\u001b[0;34m,\u001b[0m \u001b[0msample_weight\u001b[0m\u001b[0;34m,\u001b[0m \u001b[0msolver_type\u001b[0m\u001b[0;34m,\u001b[0m \u001b[0mkernel\u001b[0m\u001b[0;34m,\u001b[0m \u001b[0mrandom_seed\u001b[0m\u001b[0;34m=\u001b[0m\u001b[0mseed\u001b[0m\u001b[0;34m)\u001b[0m\u001b[0;34m\u001b[0m\u001b[0m\n\u001b[0m\u001b[1;32m    179\u001b[0m         \u001b[0;31m# see comment on the other call to np.iinfo in this file\u001b[0m\u001b[0;34m\u001b[0m\u001b[0;34m\u001b[0m\u001b[0m\n\u001b[1;32m    180\u001b[0m \u001b[0;34m\u001b[0m\u001b[0m\n",
      "\u001b[0;32m/Library/Python/2.7/site-packages/sklearn/svm/base.pyc\u001b[0m in \u001b[0;36m_dense_fit\u001b[0;34m(self, X, y, sample_weight, solver_type, kernel, random_seed)\u001b[0m\n\u001b[1;32m    215\u001b[0m             \u001b[0;31m# TODO: add keyword copy to copy on demand\u001b[0m\u001b[0;34m\u001b[0m\u001b[0;34m\u001b[0m\u001b[0m\n\u001b[1;32m    216\u001b[0m             \u001b[0mself\u001b[0m\u001b[0;34m.\u001b[0m\u001b[0m__Xfit\u001b[0m \u001b[0;34m=\u001b[0m \u001b[0mX\u001b[0m\u001b[0;34m\u001b[0m\u001b[0m\n\u001b[0;32m--> 217\u001b[0;31m             \u001b[0mX\u001b[0m \u001b[0;34m=\u001b[0m \u001b[0mself\u001b[0m\u001b[0;34m.\u001b[0m\u001b[0m_compute_kernel\u001b[0m\u001b[0;34m(\u001b[0m\u001b[0mX\u001b[0m\u001b[0;34m)\u001b[0m\u001b[0;34m\u001b[0m\u001b[0m\n\u001b[0m\u001b[1;32m    218\u001b[0m \u001b[0;34m\u001b[0m\u001b[0m\n\u001b[1;32m    219\u001b[0m             \u001b[0;32mif\u001b[0m \u001b[0mX\u001b[0m\u001b[0;34m.\u001b[0m\u001b[0mshape\u001b[0m\u001b[0;34m[\u001b[0m\u001b[0;36m0\u001b[0m\u001b[0;34m]\u001b[0m \u001b[0;34m!=\u001b[0m \u001b[0mX\u001b[0m\u001b[0;34m.\u001b[0m\u001b[0mshape\u001b[0m\u001b[0;34m[\u001b[0m\u001b[0;36m1\u001b[0m\u001b[0;34m]\u001b[0m\u001b[0;34m:\u001b[0m\u001b[0;34m\u001b[0m\u001b[0m\n",
      "\u001b[0;32m/Library/Python/2.7/site-packages/sklearn/svm/base.pyc\u001b[0m in \u001b[0;36m_compute_kernel\u001b[0;34m(self, X)\u001b[0m\n\u001b[1;32m    343\u001b[0m             \u001b[0;31m# in the case of precomputed kernel given as a function, we\u001b[0m\u001b[0;34m\u001b[0m\u001b[0;34m\u001b[0m\u001b[0m\n\u001b[1;32m    344\u001b[0m             \u001b[0;31m# have to compute explicitly the kernel matrix\u001b[0m\u001b[0;34m\u001b[0m\u001b[0;34m\u001b[0m\u001b[0m\n\u001b[0;32m--> 345\u001b[0;31m             \u001b[0mkernel\u001b[0m \u001b[0;34m=\u001b[0m \u001b[0mself\u001b[0m\u001b[0;34m.\u001b[0m\u001b[0mkernel\u001b[0m\u001b[0;34m(\u001b[0m\u001b[0mX\u001b[0m\u001b[0;34m,\u001b[0m \u001b[0mself\u001b[0m\u001b[0;34m.\u001b[0m\u001b[0m__Xfit\u001b[0m\u001b[0;34m)\u001b[0m\u001b[0;34m\u001b[0m\u001b[0m\n\u001b[0m\u001b[1;32m    346\u001b[0m             \u001b[0;32mif\u001b[0m \u001b[0msp\u001b[0m\u001b[0;34m.\u001b[0m\u001b[0missparse\u001b[0m\u001b[0;34m(\u001b[0m\u001b[0mkernel\u001b[0m\u001b[0;34m)\u001b[0m\u001b[0;34m:\u001b[0m\u001b[0;34m\u001b[0m\u001b[0m\n\u001b[1;32m    347\u001b[0m                 \u001b[0mkernel\u001b[0m \u001b[0;34m=\u001b[0m \u001b[0mkernel\u001b[0m\u001b[0;34m.\u001b[0m\u001b[0mtoarray\u001b[0m\u001b[0;34m(\u001b[0m\u001b[0;34m)\u001b[0m\u001b[0;34m\u001b[0m\u001b[0m\n",
      "\u001b[0;32m<ipython-input-5-58ff357d3543>\u001b[0m in \u001b[0;36m<lambda>\u001b[0;34m(x1, x2)\u001b[0m\n\u001b[1;32m     10\u001b[0m \u001b[0;34m\u001b[0m\u001b[0m\n\u001b[1;32m     11\u001b[0m \u001b[0;31m# we create an instance of SVM and fit out data.\u001b[0m\u001b[0;34m\u001b[0m\u001b[0;34m\u001b[0m\u001b[0m\n\u001b[0;32m---> 12\u001b[0;31m \u001b[0mmy_kernel\u001b[0m \u001b[0;34m=\u001b[0m \u001b[0;32mlambda\u001b[0m \u001b[0mx1\u001b[0m\u001b[0;34m,\u001b[0m\u001b[0mx2\u001b[0m\u001b[0;34m:\u001b[0m \u001b[0mff_kernel\u001b[0m\u001b[0;34m(\u001b[0m\u001b[0mpara\u001b[0m\u001b[0;34m,\u001b[0m\u001b[0msgm\u001b[0m\u001b[0;34m,\u001b[0m\u001b[0mx1\u001b[0m\u001b[0;34m,\u001b[0m\u001b[0mx2\u001b[0m\u001b[0;34m)\u001b[0m\u001b[0;34m\u001b[0m\u001b[0m\n\u001b[0m\u001b[1;32m     13\u001b[0m \u001b[0mclf\u001b[0m \u001b[0;34m=\u001b[0m \u001b[0msvm\u001b[0m\u001b[0;34m.\u001b[0m\u001b[0mSVC\u001b[0m\u001b[0;34m(\u001b[0m\u001b[0mkernel\u001b[0m\u001b[0;34m=\u001b[0m\u001b[0mmy_kernel\u001b[0m\u001b[0;34m)\u001b[0m\u001b[0;34m\u001b[0m\u001b[0m\n\u001b[1;32m     14\u001b[0m \u001b[0mclf\u001b[0m\u001b[0;34m.\u001b[0m\u001b[0mfit\u001b[0m\u001b[0;34m(\u001b[0m\u001b[0mX1\u001b[0m\u001b[0;34m.\u001b[0m\u001b[0mT\u001b[0m\u001b[0;34m,\u001b[0m\u001b[0my\u001b[0m\u001b[0;34m)\u001b[0m\u001b[0;34m\u001b[0m\u001b[0m\n",
      "\u001b[0;32m<ipython-input-4-a40cf3c5a67c>\u001b[0m in \u001b[0;36mff_kernel\u001b[0;34m(para, sgm, x1, x2)\u001b[0m\n\u001b[1;32m      2\u001b[0m     \u001b[0;31m# TODO use the precomputed Gram matrix rather than calculating K(x,y) individually\u001b[0m\u001b[0;34m\u001b[0m\u001b[0;34m\u001b[0m\u001b[0m\n\u001b[1;32m      3\u001b[0m     \u001b[0mX\u001b[0m \u001b[0;34m=\u001b[0m \u001b[0mnp\u001b[0m\u001b[0;34m.\u001b[0m\u001b[0mhstack\u001b[0m\u001b[0;34m(\u001b[0m\u001b[0;34m(\u001b[0m\u001b[0mx1\u001b[0m\u001b[0;34m,\u001b[0m\u001b[0mx2\u001b[0m\u001b[0;34m)\u001b[0m\u001b[0;34m)\u001b[0m\u001b[0;34m\u001b[0m\u001b[0m\n\u001b[0;32m----> 4\u001b[0;31m     \u001b[0mphi\u001b[0m\u001b[0;34m,\u001b[0m \u001b[0mtht\u001b[0m \u001b[0;34m=\u001b[0m \u001b[0mfastfood_forkernel\u001b[0m\u001b[0;34m(\u001b[0m\u001b[0mX\u001b[0m\u001b[0;34m,\u001b[0m\u001b[0mpara\u001b[0m\u001b[0;34m,\u001b[0m\u001b[0msgm\u001b[0m\u001b[0;34m)\u001b[0m\u001b[0;34m\u001b[0m\u001b[0m\n\u001b[0m\u001b[1;32m      5\u001b[0m     \u001b[0mK_appro\u001b[0m \u001b[0;34m=\u001b[0m \u001b[0mnp\u001b[0m\u001b[0;34m.\u001b[0m\u001b[0mdot\u001b[0m\u001b[0;34m(\u001b[0m\u001b[0mphi\u001b[0m\u001b[0;34m[\u001b[0m\u001b[0;36m0\u001b[0m\u001b[0;34m]\u001b[0m\u001b[0;34m.\u001b[0m\u001b[0mT\u001b[0m\u001b[0;34m,\u001b[0m\u001b[0mphi\u001b[0m\u001b[0;34m[\u001b[0m\u001b[0;36m1\u001b[0m\u001b[0;34m]\u001b[0m\u001b[0;34m)\u001b[0m\u001b[0;34m\u001b[0m\u001b[0m\n\u001b[1;32m      6\u001b[0m     \u001b[0;32mreturn\u001b[0m \u001b[0mK_appro\u001b[0m\u001b[0;34m\u001b[0m\u001b[0m\n",
      "\u001b[0;32m<ipython-input-3-7cdd7db05f36>\u001b[0m in \u001b[0;36mfastfood_forkernel\u001b[0;34m(X, para, sgm, use_spiral)\u001b[0m\n\u001b[1;32m     76\u001b[0m         \u001b[0mPI\u001b[0m \u001b[0;34m=\u001b[0m \u001b[0mpara\u001b[0m\u001b[0;34m.\u001b[0m\u001b[0mPI\u001b[0m\u001b[0;34m[\u001b[0m\u001b[0mii\u001b[0m\u001b[0;34m]\u001b[0m\u001b[0;34m\u001b[0m\u001b[0m\n\u001b[1;32m     77\u001b[0m \u001b[0;31m#        XX = np.dot(B,XX)\u001b[0m\u001b[0;34m\u001b[0m\u001b[0;34m\u001b[0m\u001b[0m\n\u001b[0;32m---> 78\u001b[0;31m         \u001b[0mXX\u001b[0m \u001b[0;34m=\u001b[0m \u001b[0;34m(\u001b[0m\u001b[0mB\u001b[0m \u001b[0;34m*\u001b[0m \u001b[0mXX\u001b[0m\u001b[0;34m.\u001b[0m\u001b[0mT\u001b[0m\u001b[0;34m)\u001b[0m\u001b[0;34m.\u001b[0m\u001b[0mT\u001b[0m\u001b[0;34m\u001b[0m\u001b[0m\n\u001b[0m\u001b[1;32m     79\u001b[0m         \u001b[0mT\u001b[0m \u001b[0;34m=\u001b[0m \u001b[0mFWHT\u001b[0m\u001b[0;34m(\u001b[0m\u001b[0mXX\u001b[0m\u001b[0;34m)\u001b[0m\u001b[0;34m\u001b[0m\u001b[0m\n\u001b[1;32m     80\u001b[0m         \u001b[0mT\u001b[0m \u001b[0;34m=\u001b[0m \u001b[0mT\u001b[0m\u001b[0;34m[\u001b[0m\u001b[0mPI\u001b[0m\u001b[0;34m,\u001b[0m\u001b[0;34m:\u001b[0m\u001b[0;34m]\u001b[0m\u001b[0;34m\u001b[0m\u001b[0m\n",
      "\u001b[0;31mValueError\u001b[0m: operands could not be broadcast together with shapes (128,) (200,32) "
     ]
    }
   ],
   "source": [
    "para = fastfood_params(n,d)\n",
    "#print('Fastfood params:',params)\n",
    "\n",
    "print('X1.shape:',X1.shape)\n",
    "phi1,tht1 = fastfood_forkernel(X1,para,sgm)\n",
    "print('len(phi1) =',len(phi1),'phi1 =',phi1)\n",
    "print('len(tht1) =',len(tht1),', tht1 =',tht1)\n",
    "#K_appro = np.dot(phi1[0].T,phi1[1])\n",
    "#print('K_appro =',K_appro)\n",
    "\n",
    "# we create an instance of SVM and fit out data.\n",
    "my_kernel = lambda x1,x2: ff_kernel(para,sgm,x1,x2)\n",
    "clf = svm.SVC(kernel=my_kernel)\n",
    "clf.fit(X1.T,y)\n"
   ]
  },
  {
   "cell_type": "code",
   "execution_count": null,
   "metadata": {
    "collapsed": true
   },
   "outputs": [],
   "source": []
  },
  {
   "cell_type": "code",
   "execution_count": null,
   "metadata": {
    "collapsed": true
   },
   "outputs": [],
   "source": []
  }
 ],
 "metadata": {
  "kernelspec": {
   "display_name": "Python 2",
   "language": "python",
   "name": "python2"
  },
  "language_info": {
   "codemirror_mode": {
    "name": "ipython",
    "version": 2
   },
   "file_extension": ".py",
   "mimetype": "text/x-python",
   "name": "python",
   "nbconvert_exporter": "python",
   "pygments_lexer": "ipython2",
   "version": "2.7.6"
  }
 },
 "nbformat": 4,
 "nbformat_minor": 0
}
