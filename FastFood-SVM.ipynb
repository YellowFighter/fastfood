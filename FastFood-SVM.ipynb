{
 "cells": [
  {
   "cell_type": "markdown",
   "metadata": {},
   "source": [
    "#Fast Food SVM\n",
    "Application of the Fast Food kernel expansion algorithm to SVMs."
   ]
  },
  {
   "cell_type": "code",
   "execution_count": 24,
   "metadata": {
    "collapsed": false
   },
   "outputs": [
    {
     "name": "stdout",
     "output_type": "stream",
     "text": [
      "Shape of X: (4, 150) ; shape of y: (150,)\n"
     ]
    }
   ],
   "source": [
    "from __future__ import division, print_function\n",
    "%matplotlib inline\n",
    "import matplotlib\n",
    "import matplotlib.pyplot as plt\n",
    "#import pylab as pl\n",
    "#import theano\n",
    "#import theano.tensor as T\n",
    "import numpy as np\n",
    "from numpy.linalg import norm\n",
    "#import pandas as pd\n",
    "import sklearn.datasets\n",
    "from sklearn import svm\n",
    "from scipy.linalg import hadamard\n",
    "from scipy.special import gammaincinv\n",
    "from functools import partial\n",
    "from collections import namedtuple\n",
    "\n",
    "VERBOSE = True  # increases verbosity of some outputs\n",
    "\n",
    "# random number generator\n",
    "rng = np.random.RandomState()\n",
    "\n",
    "# load data\n",
    "iris = sklearn.datasets.load_iris()\n",
    "X = iris.data.T # each column is an input pattern\n",
    "y = iris.target\n",
    "print('Shape of X:',X.shape,'; shape of y:',y.shape)\n",
    "\n",
    "# pad with zeros so d is nearest power of 2\n",
    "# N = X.shape[0]\n",
    "# l = X.shape[1]\n",
    "# print('Original shape of X: n =',N,', d =',l)\n",
    "# d = int(2 ** np.ceil(np.log2(l)))\n",
    "# if d != l:  # pad only if needed\n",
    "#     print('Padding input from d =',l,'to d =',d)\n",
    "#     X = np.pad(X,((0,d-l),(0,0)),mode='constant',constant_values=0)\n",
    "    \n",
    "# convert to shared tensors\n",
    "#X = theano.shared(X,name='X',borrow=True)\n",
    "#y = theano.shared(y,name='y',borrow=True)"
   ]
  },
  {
   "cell_type": "code",
   "execution_count": 46,
   "metadata": {
    "collapsed": false
   },
   "outputs": [
    {
     "name": "stdout",
     "output_type": "stream",
     "text": [
      "Ready to generate fastfood params\n"
     ]
    }
   ],
   "source": [
    "FFPara = namedtuple('FFPara', 'B G PI S')\n",
    "def fastfood_params(n,d):\n",
    "    d0 = d\n",
    "    l = int(np.ceil(np.log2(d)))\n",
    "    d = 2**l\n",
    "    k = int(np.ceil(n/d))\n",
    "    n = d*k\n",
    "    print('d0 =',d0,', d =',d)\n",
    "    \n",
    "    B = []\n",
    "    G = []\n",
    "    PI = []\n",
    "    S = []\n",
    "    for ii in xrange(k):\n",
    "        B_ii  = rng.choice([-1,1],size=k)\n",
    "        G_ii  = rng.normal(size=k)\n",
    "        PI_ii = rng.permutation(d)\n",
    "        \n",
    "        B.append(B_ii)\n",
    "        G.append(G_ii)\n",
    "        PI.append(PI_ii)\n",
    "        \n",
    "        p1 = rng.uniform(size=d)\n",
    "        p2 = d/2\n",
    "#        print('p1 =',p1,'; p2 =',p2)\n",
    "        T = gammaincinv(p2,p1)\n",
    "#        print('T1 =',T)\n",
    "        T = (T*2) ** (1/2)\n",
    "#        print('T2 =',T)\n",
    "        s_i = T * norm(G,'fro')**(-1)\n",
    "#        print('s_i =', s_i)\n",
    "        S_ii = s_i\n",
    "        S.append(S_ii)\n",
    "    \n",
    "    S1 = np.zeros(n)\n",
    "    for ii in xrange(k):\n",
    "        S1[ii*d:(ii+1)*d] = S[ii]\n",
    "    \n",
    "    print('Shape of B[0] = ',B[0].shape)\n",
    "    \n",
    "    return FFPara(B, G, PI, S)\n",
    "print('Ready to generate fastfood params')"
   ]
  },
  {
   "cell_type": "code",
   "execution_count": 47,
   "metadata": {
    "collapsed": true
   },
   "outputs": [],
   "source": [
    "def FWHT(X):\n",
    "    # Fast Walsh-Hadamard Transform for 1D signals\n",
    "    # of length n=2^M only (non error-proof for now)\n",
    "    x=get_bit_reversed_list(X)\n",
    "    x=np.array(x)\n",
    "    N=len(X)\n",
    " \n",
    "    for i in range(0,N,2):\n",
    "        x[i]=x[i]+x[i+1]\n",
    "        x[i+1]=x[i]-2*x[i+1]\n",
    " \n",
    "    L=1\n",
    "    y=np.zeros_like(x)\n",
    "    for n in range(2,int(log(N,2))+1):\n",
    "        M=2**L\n",
    "        J=0; K=0\n",
    "        while(K<N):\n",
    "            for j in range(J,J+M,2):\n",
    "                y[K]   = x[j]   + x[j+M]\n",
    "                y[K+1] = x[j]   - x[j+M]\n",
    "                y[K+2] = x[j+1] + x[j+1+M]\n",
    "                y[K+3] = x[j+1] - x[j+1+M]\n",
    "                K=K+4\n",
    "            J=J+2*M\n",
    "        x=y.copy()\n",
    "        L=L+1\n",
    " \n",
    "    y=x/float(N)\n",
    "    \n",
    "    return y\n",
    "\n",
    "def fastfood_forkernel(X,para,sgm,use_spiral=False):\n",
    "    d0, m = X.shape\n",
    "    print('d0 =',d0,', m =',m)\n",
    "    l = int(np.ceil(np.log2(d0)))\n",
    "    d = 2**l\n",
    "    if d == d0:\n",
    "        XX = X\n",
    "    else:\n",
    "        XX = np.zeros((d,m))\n",
    "        XX[1:d0,:] = X\n",
    "        \n",
    "    k = len(para.B)\n",
    "    n = d*k\n",
    "    tht = np.zeros((n,m))\n",
    "    for ii in xrange(k):\n",
    "        B = para.B[ii]\n",
    "        G = para.G[ii]\n",
    "        PI = para.PI[ii]\n",
    "        XX = XX*B\n",
    "        T = FWHT(XX)\n",
    "        T = T[PI,:]\n",
    "        T = np.dot(T,G*d)\n",
    "        tht[(ii-1)*d+1:ii*d,:] = FWHT(T)\n",
    "        \n",
    "    S = para.S\n",
    "    tht = np.dot(tht,S*np.sqrt(d))\n",
    "    \n",
    "    T = tht/sgm\n",
    "    phi = np.concat([np.cos(T),np.sin(T)],axis=1)\n",
    "    phi = 1.0/np.sqrt(n) * phi\n",
    "    return phi,tht"
   ]
  },
  {
   "cell_type": "code",
   "execution_count": 48,
   "metadata": {
    "collapsed": false
   },
   "outputs": [
    {
     "name": "stdout",
     "output_type": "stream",
     "text": [
      "d0 = 100 , d = 128\n",
      "Shape of B[0] =  (16,)\n",
      "d0 = 4 , m = 150\n"
     ]
    },
    {
     "ename": "ValueError",
     "evalue": "operands could not be broadcast together with shapes (4,150) (16,) ",
     "output_type": "error",
     "traceback": [
      "\u001b[1;31m---------------------------------------------------------------------------\u001b[0m",
      "\u001b[1;31mValueError\u001b[0m                                Traceback (most recent call last)",
      "\u001b[1;32m<ipython-input-48-cd7d413c572d>\u001b[0m in \u001b[0;36m<module>\u001b[1;34m()\u001b[0m\n\u001b[0;32m      5\u001b[0m \u001b[0mpara\u001b[0m \u001b[1;33m=\u001b[0m \u001b[0mfastfood_params\u001b[0m\u001b[1;33m(\u001b[0m\u001b[0mn\u001b[0m\u001b[1;33m,\u001b[0m\u001b[0md\u001b[0m\u001b[1;33m)\u001b[0m\u001b[1;33m\u001b[0m\u001b[0m\n\u001b[0;32m      6\u001b[0m \u001b[1;31m#print('Fastfood params:',params)\u001b[0m\u001b[1;33m\u001b[0m\u001b[1;33m\u001b[0m\u001b[0m\n\u001b[1;32m----> 7\u001b[1;33m \u001b[0mphi\u001b[0m \u001b[1;33m=\u001b[0m \u001b[0mfastfood_forkernel\u001b[0m\u001b[1;33m(\u001b[0m\u001b[0mX\u001b[0m\u001b[1;33m,\u001b[0m\u001b[0mpara\u001b[0m\u001b[1;33m,\u001b[0m\u001b[0msgm\u001b[0m\u001b[1;33m)\u001b[0m\u001b[1;33m\u001b[0m\u001b[0m\n\u001b[0m\u001b[0;32m      8\u001b[0m \u001b[1;32mprint\u001b[0m\u001b[1;33m(\u001b[0m\u001b[1;34m'phi ='\u001b[0m\u001b[1;33m,\u001b[0m\u001b[0mphi\u001b[0m\u001b[1;33m)\u001b[0m\u001b[1;33m\u001b[0m\u001b[0m\n",
      "\u001b[1;32m<ipython-input-47-96cf8e12be44>\u001b[0m in \u001b[0;36mfastfood_forkernel\u001b[1;34m(X, para, sgm, use_spiral)\u001b[0m\n\u001b[0;32m     48\u001b[0m         \u001b[0mG\u001b[0m \u001b[1;33m=\u001b[0m \u001b[0mpara\u001b[0m\u001b[1;33m.\u001b[0m\u001b[0mG\u001b[0m\u001b[1;33m[\u001b[0m\u001b[0mii\u001b[0m\u001b[1;33m]\u001b[0m\u001b[1;33m\u001b[0m\u001b[0m\n\u001b[0;32m     49\u001b[0m         \u001b[0mPI\u001b[0m \u001b[1;33m=\u001b[0m \u001b[0mpara\u001b[0m\u001b[1;33m.\u001b[0m\u001b[0mPI\u001b[0m\u001b[1;33m[\u001b[0m\u001b[0mii\u001b[0m\u001b[1;33m]\u001b[0m\u001b[1;33m\u001b[0m\u001b[0m\n\u001b[1;32m---> 50\u001b[1;33m         \u001b[0mXX\u001b[0m \u001b[1;33m=\u001b[0m \u001b[0mXX\u001b[0m\u001b[1;33m*\u001b[0m\u001b[0mB\u001b[0m\u001b[1;33m\u001b[0m\u001b[0m\n\u001b[0m\u001b[0;32m     51\u001b[0m         \u001b[0mT\u001b[0m \u001b[1;33m=\u001b[0m \u001b[0mFWHT\u001b[0m\u001b[1;33m(\u001b[0m\u001b[0mXX\u001b[0m\u001b[1;33m)\u001b[0m\u001b[1;33m\u001b[0m\u001b[0m\n\u001b[0;32m     52\u001b[0m         \u001b[0mT\u001b[0m \u001b[1;33m=\u001b[0m \u001b[0mT\u001b[0m\u001b[1;33m[\u001b[0m\u001b[0mPI\u001b[0m\u001b[1;33m,\u001b[0m\u001b[1;33m:\u001b[0m\u001b[1;33m]\u001b[0m\u001b[1;33m\u001b[0m\u001b[0m\n",
      "\u001b[1;31mValueError\u001b[0m: operands could not be broadcast together with shapes (4,150) (16,) "
     ]
    }
   ],
   "source": [
    "d = 100 # dimension of input pattern\n",
    "n = d*20 # basis number used for approximation\n",
    "sgm = 10 # bandwidth for Gaussian kernel\n",
    "\n",
    "para = fastfood_params(n,d)\n",
    "#print('Fastfood params:',params)\n",
    "phi = fastfood_forkernel(X,para,sgm)\n",
    "print('phi =',phi)"
   ]
  },
  {
   "cell_type": "code",
   "execution_count": null,
   "metadata": {
    "collapsed": true
   },
   "outputs": [],
   "source": []
  },
  {
   "cell_type": "code",
   "execution_count": null,
   "metadata": {
    "collapsed": true
   },
   "outputs": [],
   "source": []
  },
  {
   "cell_type": "code",
   "execution_count": null,
   "metadata": {
    "collapsed": true
   },
   "outputs": [],
   "source": []
  }
 ],
 "metadata": {
  "kernelspec": {
   "display_name": "Python 2",
   "language": "python",
   "name": "python2"
  },
  "language_info": {
   "codemirror_mode": {
    "name": "ipython",
    "version": 2
   },
   "file_extension": ".py",
   "mimetype": "text/x-python",
   "name": "python",
   "nbconvert_exporter": "python",
   "pygments_lexer": "ipython2",
   "version": "2.7.6"
  }
 },
 "nbformat": 4,
 "nbformat_minor": 0
}
