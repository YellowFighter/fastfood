{
 "cells": [
  {
   "cell_type": "markdown",
   "metadata": {},
   "source": [
    "#Fast Food SVM\n",
    "Application of the Fast Food kernel expansion algorithm to SVMs.\n",
    "\n",
    "Code ported from MATLAB implementation:\n",
    " * Ji Zhao, Deyu Meng. FastMMD: Ensemble of Circular Discrepancy for Efficient Two-Sample Test. Neural Computation, 2015. "
   ]
  },
  {
   "cell_type": "code",
   "execution_count": 12,
   "metadata": {
    "collapsed": false
   },
   "outputs": [
    {
     "name": "stdout",
     "output_type": "stream",
     "text": [
      "Shape of X1: (360, 64)\n",
      "Shape of y: (360,)\n"
     ]
    }
   ],
   "source": [
    "from __future__ import division, print_function\n",
    "%matplotlib inline\n",
    "import matplotlib\n",
    "import matplotlib.pyplot as plt\n",
    "#import pylab as pl\n",
    "#import theano\n",
    "# import theano.tensor as T\n",
    "import numpy as np\n",
    "from numpy.linalg import norm\n",
    "import pandas as pd\n",
    "from sklearn import svm, metrics, datasets\n",
    "# from scipy.linalg import hadamard\n",
    "from scipy.special import gammaincinv\n",
    "from functools import partial\n",
    "from collections import namedtuple\n",
    "# import ipdb\n",
    "import fht\n",
    "\n",
    "VERBOSE = True  # increases verbosity of some outputs\n",
    "\n",
    "d = 64 # dimension of input pattern\n",
    "n = d*20 # basis number used for approximation\n",
    "sgm = 10 # bandwidth for Gaussian kernel\n",
    "\n",
    "# random number generator\n",
    "rng = np.random.RandomState(None)\n",
    "\n",
    "# load data\n",
    "digits = datasets.load_digits(2)\n",
    "N, d = digits.data.shape\n",
    "X1 = digits.data\n",
    "print('Shape of X1:',X1.shape)\n",
    "y = digits.target\n",
    "print('Shape of y:',y.shape)\n",
    "\n",
    "# np.savetxt('digits-2.csv',X1,delimiter=',')\n",
    "# print(\"Wrote digits to digits-2.csv\")\n",
    "\n",
    "# pad with zeros so d is nearest power of 2\n",
    "# N = X.shape[0]\n",
    "# l = X.shape[1]\n",
    "# print('Original shape of X: n =',N,', d =',l)\n",
    "# d = int(2 ** np.ceil(np.log2(l)))\n",
    "# if d != l:  # pad only if needed\n",
    "#     print('Padding input from d =',l,'to d =',d)\n",
    "#     X = np.pad(X,((0,d-l),(0,0)),mode='constant',constant_values=0)\n",
    "    \n",
    "# convert to shared tensors\n",
    "#X = theano.shared(X,name='X',borrow=True)\n",
    "#y = theano.shared(y,name='y',borrow=True)"
   ]
  },
  {
   "cell_type": "code",
   "execution_count": 13,
   "metadata": {
    "collapsed": false
   },
   "outputs": [
    {
     "name": "stdout",
     "output_type": "stream",
     "text": [
      "Ready to generate fastfood params\n"
     ]
    }
   ],
   "source": [
    "FFPara = namedtuple('FFPara', 'B G PI S')\n",
    "def fastfood_params(n,d):\n",
    "    d0 = d\n",
    "    n0 = n\n",
    "    l = int(np.ceil(np.log2(d)))\n",
    "    d = 2**l\n",
    "    k = int(np.ceil(n/d))\n",
    "    n = d*k\n",
    "    print('d0 =',d0,', d =',d)\n",
    "    print('n0 =',n,', n =',n)\n",
    "    \n",
    "    B = []\n",
    "    G = []\n",
    "    PI = []\n",
    "    S = []\n",
    "    for ii in xrange(k):\n",
    "        B_ii  = rng.choice([-1,1],size=d)\n",
    "        G_ii  = rng.normal(size=d)\n",
    "        PI_ii = rng.permutation(d)\n",
    "        \n",
    "        B.append(B_ii)\n",
    "        G.append(G_ii)\n",
    "        PI.append(PI_ii)\n",
    "        \n",
    "        p1 = rng.uniform(size=d)\n",
    "        p2 = d/2\n",
    "#        print('p1 =',p1,'; p2 =',p2)\n",
    "        T = gammaincinv(p2,p1)\n",
    "#        print('T1 =',T)\n",
    "        T = (T*2) ** (1/2)\n",
    "#        print('T2 =',T)\n",
    "        s_i = T * norm(G,'fro')**(-1)\n",
    "#        print('s_i =', s_i)\n",
    "        S_ii = s_i\n",
    "        S.append(S_ii)\n",
    "    \n",
    "    S1 = np.zeros(n)\n",
    "    for ii in xrange(k):\n",
    "        S1[ii*d:(ii+1)*d] = S[ii]\n",
    "    \n",
    "#    print('Shape of B:',len(B),', B[0]:',B[0].shape)\n",
    "    \n",
    "    return FFPara(B, G, PI, S1)\n",
    "print('Ready to generate fastfood params')"
   ]
  },
  {
   "cell_type": "code",
   "execution_count": 29,
   "metadata": {
    "collapsed": false
   },
   "outputs": [],
   "source": [
    "def bit_reverse_traverse(a):\n",
    "    # (c) 2014 Ryan Compton\n",
    "    # ryancompton.net/2014/06/05/bit-reversal-permutation-in-python/\n",
    "    n = a.shape[0]\n",
    "    assert(not n&(n-1) ) # assert that n is a power of 2\n",
    "    if n == 1:\n",
    "        yield a[0]\n",
    "    else:\n",
    "        even_index = np.arange(int(n/2))*2\n",
    "        odd_index = np.arange(int(n/2))*2 + 1\n",
    "        for even in bit_reverse_traverse(a[even_index]):\n",
    "            yield even\n",
    "        for odd in bit_reverse_traverse(a[odd_index]):\n",
    "            yield odd\n",
    "\n",
    "def get_bit_reversed_list(l):\n",
    "    # (c) 2014 Ryan Compton\n",
    "    # ryancompton.net/2014/06/05/bit-reversal-permutation-in-python/\n",
    "    n = len(l)\n",
    "#    print('n=',n)\n",
    "    indexs = np.arange(n)\n",
    "    b = []\n",
    "    for i in bit_reverse_traverse(indexs):\n",
    "        b.append(l[i])\n",
    "    return b\n",
    "\n",
    "def FWHT(X):\n",
    "    # Fast Walsh-Hadamard Transform for 1D signals\n",
    "    # of length n=2^M only (non error-proof for now)\n",
    "    x=get_bit_reversed_list(X)\n",
    "    x=np.array(x)\n",
    "    N=len(X)\n",
    " \n",
    "    for i in range(0,N,2):\n",
    "        x[i]=x[i]+x[i+1]\n",
    "        x[i+1]=x[i]-2*x[i+1]\n",
    " \n",
    "    L=1\n",
    "    y=np.zeros_like(x)\n",
    "    for n in range(2,int(np.log2(N))+1):\n",
    "        M=2**L\n",
    "        J=0; K=0\n",
    "        while(K<N):\n",
    "            for j in range(J,J+M,2):\n",
    "                y[K]   = x[j]   + x[j+M]\n",
    "                y[K+1] = x[j]   - x[j+M]\n",
    "                y[K+2] = x[j+1] + x[j+1+M]\n",
    "                y[K+3] = x[j+1] - x[j+1+M]\n",
    "                K=K+4\n",
    "            J=J+2*M\n",
    "        x=y.copy()\n",
    "        L=L+1\n",
    " \n",
    "    y=x/float(N)\n",
    "    \n",
    "    return y\n",
    "\n",
    "def FHT(x):\n",
    "    a,b = x.shape\n",
    "    assert(not a&(a-1)) # if size power of 2\n",
    "    y = np.zeros((a,b))\n",
    "    for i in xrange(b):\n",
    "        y[:,i] = fht.fht1(x[:,i])\n",
    "    return y\n",
    "\n",
    "def fastfood_forkernel(X,para,sgm):\n",
    "    d0, m = X.shape\n",
    "#    print('d0 =',d0,', m =',m)\n",
    "    l = int(np.ceil(np.log2(d0)))\n",
    "    d = 2**l\n",
    "    if d == d0:\n",
    "        XX = X\n",
    "    else:\n",
    "        XX = np.zeros((d,m))\n",
    "        XX[0:d0,:] = X\n",
    "#    print('d=',d,',m=',m)\n",
    "#         print('d =',d)\n",
    "#    print('Shape of XX:',XX.shape)\n",
    "    \n",
    "    k = len(para.B)\n",
    "#     print(\"k=\",k)\n",
    "    n = d*k\n",
    "    tht = np.zeros((n,m))\n",
    "#     print('(n,m) =',(n,m))\n",
    "    for ii in xrange(k):\n",
    "#         print(\"ii=\",ii)\n",
    "        B = para.B[ii]\n",
    "        G = para.G[ii]\n",
    "        PI = para.PI[ii]\n",
    "#        XX = np.dot(B,XX)\n",
    "        XX = np.dot(np.diag(B),XX)\n",
    "        print(XX.shape)\n",
    "        T = FHT(XX)\n",
    "#        T_m = pd.read_csv('/Users/kellanfluette/dev/fastfood/samples/matlab_fastfood/Fastfood/fwht-xx-'+str(ii+1)+'.csv',header=None)\n",
    "#        print('T =',T,', T_m =',T_m)\n",
    "#         print('PI =',PI)\n",
    "        T = T[PI,:]\n",
    "#         print('T =',T)\n",
    "#        print('T.shape:',T.shape,',(G*d).shape:',(G*d).shape)\n",
    "        T = np.dot(np.diag(G*d),T)\n",
    "#        print('T.shape:',T.shape)\n",
    "        T = FHT(T)\n",
    "#        print('T.shape:',T.shape)\n",
    "        idx1 = ii*d\n",
    "        idx2=(ii+1)*d\n",
    "#        print('idx1=',idx1,',idx2=',idx2)\n",
    "        tht[idx1:idx2,:] = T\n",
    "        \n",
    "    S = para.S\n",
    "    print('tht.shape:',tht.shape)\n",
    "    #ipdb.set_trace()\n",
    "#     tht = np.dot(tht,np.diag(S*np.sqrt(d)))\n",
    "    #tht = np.dot(S*np.sqrt(d),tht)  # TODO: make dot product ... ?\n",
    "    tht = (S*np.sqrt(d)*tht.T).T\n",
    "\n",
    "    T = tht/sgm\n",
    "    phi = np.concatenate([np.cos(T),np.sin(T)],axis=1)\n",
    "    phi = 1.0/np.sqrt(n) * phi\n",
    "    return phi,tht"
   ]
  },
  {
   "cell_type": "code",
   "execution_count": 30,
   "metadata": {
    "collapsed": false
   },
   "outputs": [],
   "source": [
    "def ff_kernel(para,sgm,x1,x2):\n",
    "    # TODO use the precomputed Gram matrix rather than calculating K(x,y) individually\n",
    "    X = np.hstack((x1,x2))\n",
    "    phi, tht = fastfood_forkernel(X,para,sgm)\n",
    "    K_appro = np.dot(phi[0].T,phi[1])\n",
    "    return K_appro"
   ]
  },
  {
   "cell_type": "code",
   "execution_count": 31,
   "metadata": {
    "collapsed": false
   },
   "outputs": [
    {
     "name": "stdout",
     "output_type": "stream",
     "text": [
      "d0 = 64 , d = 64\n",
      "n0 = 1280 , n = 1280\n",
      "(64, 360)\n",
      "(64, 360)\n",
      "(64, 360)\n",
      "(64, 360)\n",
      "(64, 360)\n",
      "(64, 360)\n",
      "(64, 360)\n",
      "(64, 360)\n",
      "(64, 360)\n",
      "(64, 360)\n",
      "(64, 360)\n",
      "(64, 360)\n",
      "(64, 360)\n",
      "(64, 360)\n",
      "(64, 360)\n",
      "(64, 360)\n",
      "(64, 360)\n",
      "(64, 360)\n",
      "(64, 360)\n",
      "(64, 360)\n",
      "tht.shape: (1280, 360)\n"
     ]
    }
   ],
   "source": [
    "para = fastfood_params(n,d)\n",
    "#print('Fastfood params:',params)\n",
    "\n",
    "def compute_kernel_matrix(X,phi):\n",
    "    d0, m = X.shape\n",
    "    l = int(np.ceil(np.log2(d0)))\n",
    "    d = 2**l\n",
    "    if d == d0:\n",
    "        XX = X\n",
    "    else:\n",
    "        XX = np.zeros((d,m))\n",
    "        XX[0:d0,:] = X\n",
    "#     print('XX.shape:',XX.shape)\n",
    "\n",
    "    K = np.zeros((N,N),dtype=np.float64)\n",
    "    for i in xrange(N):\n",
    "        for j in xrange(N):\n",
    "#            phi1 = np.dot(phi[i],XX[:,i])\n",
    "#            phi2 = np.dot(phi[j],XX[:,j])\n",
    "            phi_i = phi[i]\n",
    "            phi_j = phi[j]\n",
    "            K_ij = np.dot(phi_i,phi_j)\n",
    "            K[i,j] = K_ij\n",
    "    return K\n",
    "\n",
    "X1T = X1.T\n",
    "# print('X1.shape:',X1.shape)\n",
    "phi1,tht1 = fastfood_forkernel(X1T,para,sgm)\n",
    "#print(phi1[1:3,:])\n",
    "# print('phi1.shape:',phi1.shape)\n",
    "#phi1 = pd.read_csv('/Users/kellanfluette/dev/fastfood/samples/matlab_fastfood/Fastfood/phi1.csv',header=None)\n",
    "K_appro = compute_kernel_matrix(X1T,phi1)\n",
    "# print('K_appro =',K_appro)\n",
    "# print('K_appro.shape:',K_appro.shape)"
   ]
  },
  {
   "cell_type": "code",
   "execution_count": 32,
   "metadata": {
    "collapsed": false
   },
   "outputs": [
    {
     "name": "stdout",
     "output_type": "stream",
     "text": [
      "ff-kSVM metrics:\n",
      "              precision    recall  f1-score   support\n",
      "\n",
      "          0       1.00      0.19      0.31       178\n",
      "          1       0.56      1.00      0.72       182\n",
      "\n",
      "avg / total       0.78      0.60      0.52       360\n",
      "\n",
      "kSVM(rbf) metrics:\n",
      "              precision    recall  f1-score   support\n",
      "\n",
      "          0       1.00      1.00      1.00       178\n",
      "          1       1.00      1.00      1.00       182\n",
      "\n",
      "avg / total       1.00      1.00      1.00       360\n",
      "\n"
     ]
    }
   ],
   "source": [
    "C = 1.0\n",
    "gamma = 0.001\n",
    "\n",
    "# we create an instance of SVM and fit out data.\n",
    "#my_kernel = lambda x1,x2: ff_kernel(para,sgm,x1,x2)\n",
    "clf = svm.SVC(kernel='precomputed',gamma=gamma,C=C,random_state=rng)\n",
    "clf.fit(K_appro,y)\n",
    "y_pred = clf.predict(K_appro)\n",
    "print('ff-kSVM metrics:\\n',metrics.classification_report(y,y_pred))\n",
    "\n",
    "clf2 = svm.SVC(kernel='rbf',C=C,gamma=gamma,random_state=rng)\n",
    "#print('X1.shape:',X1.shape,', y.shape:',y.shape)\n",
    "clf2.fit(X1,y)\n",
    "y_pred = clf2.predict(X1)\n",
    "print('kSVM(rbf) metrics:\\n',metrics.classification_report(y,y_pred))"
   ]
  },
  {
   "cell_type": "code",
   "execution_count": null,
   "metadata": {
    "collapsed": false
   },
   "outputs": [],
   "source": [
    "d"
   ]
  },
  {
   "cell_type": "code",
   "execution_count": 24,
   "metadata": {
    "collapsed": false
   },
   "outputs": [
    {
     "data": {
      "text/plain": [
       "array([[ -1.73205081,  -3.46410162,  -5.19615242],\n",
       "       [  6.92820323,   8.66025404,  10.39230485],\n",
       "       [-12.12435565, -13.85640646, -15.58845727]])"
      ]
     },
     "execution_count": 24,
     "metadata": {},
     "output_type": "execute_result"
    }
   ],
   "source": [
    "tht=np.array([[1,2,3],[4,5,6],[7,8,9]])\n",
    "S=np.array([-1,1,-1])\n",
    "d=3\n",
    "(S*np.sqrt(d)*tht.T).T"
   ]
  },
  {
   "cell_type": "code",
   "execution_count": 21,
   "metadata": {
    "collapsed": false
   },
   "outputs": [
    {
     "data": {
      "text/plain": [
       "(3,)"
      ]
     },
     "execution_count": 21,
     "metadata": {},
     "output_type": "execute_result"
    }
   ],
   "source": [
    "S.shape"
   ]
  },
  {
   "cell_type": "code",
   "execution_count": 11,
   "metadata": {
    "collapsed": false
   },
   "outputs": [
    {
     "data": {
      "text/plain": [
       "array([[1, 2, 3],\n",
       "       [4, 5, 6],\n",
       "       [7, 8, 9]])"
      ]
     },
     "execution_count": 11,
     "metadata": {},
     "output_type": "execute_result"
    }
   ],
   "source": [
    "tht"
   ]
  },
  {
   "cell_type": "code",
   "execution_count": null,
   "metadata": {
    "collapsed": true
   },
   "outputs": [],
   "source": []
  }
 ],
 "metadata": {
  "kernelspec": {
   "display_name": "Python 2",
   "language": "python",
   "name": "python2"
  },
  "language_info": {
   "codemirror_mode": {
    "name": "ipython",
    "version": 2
   },
   "file_extension": ".py",
   "mimetype": "text/x-python",
   "name": "python",
   "nbconvert_exporter": "python",
   "pygments_lexer": "ipython2",
   "version": "2.7.6"
  }
 },
 "nbformat": 4,
 "nbformat_minor": 0
}
