{
 "cells": [
  {
   "cell_type": "markdown",
   "metadata": {},
   "source": [
    "#Fast Food SVM\n",
    "Application of the Fast Food kernel expansion algorithm to SVMs."
   ]
  },
  {
   "cell_type": "code",
   "execution_count": 80,
   "metadata": {
    "collapsed": false
   },
   "outputs": [
    {
     "name": "stdout",
     "output_type": "stream",
     "text": [
      "Shape of X1: (100, 2) ; shape of X2: (100, 3)\n"
     ]
    }
   ],
   "source": [
    "from __future__ import division, print_function\n",
    "%matplotlib inline\n",
    "import matplotlib\n",
    "import matplotlib.pyplot as plt\n",
    "#import pylab as pl\n",
    "#import theano\n",
    "#import theano.tensor as T\n",
    "import numpy as np\n",
    "from numpy.linalg import norm\n",
    "#import pandas as pd\n",
    "#import sklearn.datasets\n",
    "from sklearn import svm\n",
    "from scipy.linalg import hadamard\n",
    "from scipy.special import gammaincinv\n",
    "from functools import partial\n",
    "from collections import namedtuple\n",
    "\n",
    "VERBOSE = True  # increases verbosity of some outputs\n",
    "\n",
    "d = 100 # dimension of input pattern\n",
    "n = d*20 # basis number used for approximation\n",
    "sgm = 10 # bandwidth for Gaussian kernel\n",
    "\n",
    "# random number generator\n",
    "rng = np.random.RandomState()\n",
    "\n",
    "# load data\n",
    "X1 = rng.normal(size=(d,2))\n",
    "X2 = rng.normal(size=(d,3))\n",
    "print('Shape of X1:',X1.shape,'; shape of X2:',X2.shape)\n",
    "\n",
    "# pad with zeros so d is nearest power of 2\n",
    "# N = X.shape[0]\n",
    "# l = X.shape[1]\n",
    "# print('Original shape of X: n =',N,', d =',l)\n",
    "# d = int(2 ** np.ceil(np.log2(l)))\n",
    "# if d != l:  # pad only if needed\n",
    "#     print('Padding input from d =',l,'to d =',d)\n",
    "#     X = np.pad(X,((0,d-l),(0,0)),mode='constant',constant_values=0)\n",
    "    \n",
    "# convert to shared tensors\n",
    "#X = theano.shared(X,name='X',borrow=True)\n",
    "#y = theano.shared(y,name='y',borrow=True)"
   ]
  },
  {
   "cell_type": "code",
   "execution_count": 81,
   "metadata": {
    "collapsed": false
   },
   "outputs": [
    {
     "name": "stdout",
     "output_type": "stream",
     "text": [
      "Ready to generate fastfood params\n"
     ]
    }
   ],
   "source": [
    "FFPara = namedtuple('FFPara', 'B G PI S')\n",
    "def fastfood_params(n,d):\n",
    "    d0 = d\n",
    "    l = int(np.ceil(np.log2(d)))\n",
    "    d = 2**l\n",
    "    k = int(np.ceil(n/d))\n",
    "    n = d*k\n",
    "#    print('d0 =',d0,', d =',d)\n",
    "    \n",
    "    B = []\n",
    "    G = []\n",
    "    PI = []\n",
    "    S = []\n",
    "    for ii in xrange(k):\n",
    "        B_ii  = rng.choice([-1,1],size=d)\n",
    "        G_ii  = rng.normal(size=d)\n",
    "        PI_ii = rng.permutation(d)\n",
    "        \n",
    "        B.append(B_ii)\n",
    "        G.append(G_ii)\n",
    "        PI.append(PI_ii)\n",
    "        \n",
    "        p1 = rng.uniform(size=d)\n",
    "        p2 = d/2\n",
    "#        print('p1 =',p1,'; p2 =',p2)\n",
    "        T = gammaincinv(p2,p1)\n",
    "#        print('T1 =',T)\n",
    "        T = (T*2) ** (1/2)\n",
    "#        print('T2 =',T)\n",
    "        s_i = T * norm(G,'fro')**(-1)\n",
    "#        print('s_i =', s_i)\n",
    "        S_ii = s_i\n",
    "        S.append(S_ii)\n",
    "    \n",
    "    S1 = np.zeros(n)\n",
    "    for ii in xrange(k):\n",
    "        S1[ii*d:(ii+1)*d] = S[ii]\n",
    "    \n",
    "#    print('Shape of B:',len(B),', B[0]:',B[0].shape)\n",
    "    \n",
    "    return FFPara(B, G, PI, S1)\n",
    "print('Ready to generate fastfood params')"
   ]
  },
  {
   "cell_type": "code",
   "execution_count": 82,
   "metadata": {
    "collapsed": false
   },
   "outputs": [],
   "source": [
    "def bit_reverse_traverse(a):\n",
    "    # (c) 2014 Ryan Compton\n",
    "    # ryancompton.net/2014/06/05/bit-reversal-permutation-in-python/\n",
    "    n = a.shape[0]\n",
    "    assert(not n&(n-1) ) # assert that n is a power of 2\n",
    "    if n == 1:\n",
    "        yield a[0]\n",
    "    else:\n",
    "        even_index = np.arange(int(n/2))*2\n",
    "        odd_index = np.arange(int(n/2))*2 + 1\n",
    "        for even in bit_reverse_traverse(a[even_index]):\n",
    "            yield even\n",
    "        for odd in bit_reverse_traverse(a[odd_index]):\n",
    "            yield odd\n",
    "\n",
    "def get_bit_reversed_list(l):\n",
    "    # (c) 2014 Ryan Compton\n",
    "    # ryancompton.net/2014/06/05/bit-reversal-permutation-in-python/\n",
    "    n = len(l)\n",
    "#    print('n=',n)\n",
    "    indexs = np.arange(n)\n",
    "    b = []\n",
    "    for i in bit_reverse_traverse(indexs):\n",
    "        b.append(l[i])\n",
    "    return b\n",
    "\n",
    "def FWHT(X):\n",
    "    # Fast Walsh-Hadamard Transform for 1D signals\n",
    "    # of length n=2^M only (non error-proof for now)\n",
    "    x=get_bit_reversed_list(X)\n",
    "    x=np.array(x)\n",
    "    N=len(X)\n",
    " \n",
    "    for i in range(0,N,2):\n",
    "        x[i]=x[i]+x[i+1]\n",
    "        x[i+1]=x[i]-2*x[i+1]\n",
    " \n",
    "    L=1\n",
    "    y=np.zeros_like(x)\n",
    "    for n in range(2,int(np.log2(N))+1):\n",
    "        M=2**L\n",
    "        J=0; K=0\n",
    "        while(K<N):\n",
    "            for j in range(J,J+M,2):\n",
    "                y[K]   = x[j]   + x[j+M]\n",
    "                y[K+1] = x[j]   - x[j+M]\n",
    "                y[K+2] = x[j+1] + x[j+1+M]\n",
    "                y[K+3] = x[j+1] - x[j+1+M]\n",
    "                K=K+4\n",
    "            J=J+2*M\n",
    "        x=y.copy()\n",
    "        L=L+1\n",
    " \n",
    "    y=x/float(N)\n",
    "    \n",
    "    return y\n",
    "\n",
    "def fastfood_forkernel(X,para,sgm,use_spiral=False):\n",
    "    d0, m = X.shape\n",
    "#    print('d0 =',d0,', m =',m)\n",
    "    l = int(np.ceil(np.log2(d0)))\n",
    "    d = 2**l\n",
    "    if d == d0:\n",
    "        XX = X\n",
    "    else:\n",
    "        XX = np.zeros((d,m))\n",
    "        XX[0:d0,:] = X\n",
    "#    print('Shape of XX:',XX.shape)\n",
    "    \n",
    "    k = len(para.B)\n",
    "    n = d*k\n",
    "    tht = np.zeros((n,m))\n",
    "    for ii in xrange(k):\n",
    "        B = para.B[ii]\n",
    "        G = para.G[ii]\n",
    "        PI = para.PI[ii]\n",
    "#        XX = np.dot(B,XX)\n",
    "        XX = (B * XX.T).T\n",
    "        T = FWHT(XX)\n",
    "        T = T[PI,:]\n",
    "#        print('T.shape:',T.shape,',(G*d).shape:',(G*d).shape)\n",
    "        T = (G*d) * T.T\n",
    "#        print('T.shape:',T.shape)\n",
    "        T = FWHT(T)\n",
    "#        print('T.shape:',T.shape)\n",
    "        idx1 = ii*d\n",
    "        idx2=(ii+1)*d\n",
    "#        print('idx1=',idx1,',idx2=',idx2)\n",
    "        tht[idx1:idx2,:] = T.T\n",
    "        \n",
    "    S = para.S\n",
    "    tht = (S*np.sqrt(d) * tht.T).T\n",
    "    \n",
    "    T = tht/sgm\n",
    "    phi = np.concatenate([np.cos(T),np.sin(T)],axis=1)\n",
    "    phi = 1.0/np.sqrt(n) * phi\n",
    "    return phi,tht"
   ]
  },
  {
   "cell_type": "code",
   "execution_count": 85,
   "metadata": {
    "collapsed": false
   },
   "outputs": [
    {
     "name": "stdout",
     "output_type": "stream",
     "text": [
      "phi1 = (array([[ 0.0143086 ,  0.02209628, -0.0168388 , -0.00018827],\n",
      "       [ 0.01179164,  0.01947134,  0.01868792,  0.01044739],\n",
      "       [-0.00777528, -0.02191002, -0.02068396,  0.0028692 ],\n",
      "       ..., \n",
      "       [ 0.02207265,  0.02205543,  0.00103895, -0.00135627],\n",
      "       [-0.0072543 ,  0.00929255, -0.02087238,  0.02004819],\n",
      "       [ 0.01864449,  0.01743471, -0.01186019,  0.01357616]]), array([[ -8.66453361,  -0.08520092],\n",
      "       [ 10.07910711,   4.92459932],\n",
      "       [ 43.52821879,  30.11379979],\n",
      "       ..., \n",
      "       [  0.47034914,  -0.61416484],\n",
      "       [ 43.77893936,  11.36763913],\n",
      "       [ -5.66558038,   6.61608621]])) , len(phi1) = 2\n",
      "K_appro = [[  16.43236492   17.61847467]\n",
      " [ -23.91403045  -34.13257537]\n",
      " [ 188.79723272    4.38632873]\n",
      " [  45.82851488  165.06487688]]\n"
     ]
    },
    {
     "ename": "AssertionError",
     "evalue": "",
     "output_type": "error",
     "traceback": [
      "\u001b[0;31m---------------------------------------------------------------------------\u001b[0m",
      "\u001b[0;31mAssertionError\u001b[0m                            Traceback (most recent call last)",
      "\u001b[0;32m<ipython-input-85-1fa4a26a4a13>\u001b[0m in \u001b[0;36m<module>\u001b[0;34m()\u001b[0m\n\u001b[1;32m      7\u001b[0m \u001b[0;32mprint\u001b[0m\u001b[0;34m(\u001b[0m\u001b[0;34m'K_appro ='\u001b[0m\u001b[0;34m,\u001b[0m\u001b[0mK_appro\u001b[0m\u001b[0;34m)\u001b[0m\u001b[0;34m\u001b[0m\u001b[0m\n\u001b[1;32m      8\u001b[0m \u001b[0;34m\u001b[0m\u001b[0m\n\u001b[0;32m----> 9\u001b[0;31m \u001b[0mphi2\u001b[0m \u001b[0;34m=\u001b[0m \u001b[0mfastfood_forkernel\u001b[0m\u001b[0;34m(\u001b[0m\u001b[0mX2\u001b[0m\u001b[0;34m,\u001b[0m\u001b[0mpara\u001b[0m\u001b[0;34m,\u001b[0m\u001b[0msgm\u001b[0m\u001b[0;34m)\u001b[0m\u001b[0;34m\u001b[0m\u001b[0m\n\u001b[0m\u001b[1;32m     10\u001b[0m \u001b[0;32mprint\u001b[0m\u001b[0;34m(\u001b[0m\u001b[0;34m'phi2 ='\u001b[0m\u001b[0;34m,\u001b[0m\u001b[0mphi2\u001b[0m\u001b[0;34m,\u001b[0m\u001b[0;34m', len(phi2) ='\u001b[0m\u001b[0;34m,\u001b[0m\u001b[0mlen\u001b[0m\u001b[0;34m(\u001b[0m\u001b[0mphi2\u001b[0m\u001b[0;34m)\u001b[0m\u001b[0;34m)\u001b[0m\u001b[0;34m\u001b[0m\u001b[0m\n",
      "\u001b[0;32m<ipython-input-82-7cdd7db05f36>\u001b[0m in \u001b[0;36mfastfood_forkernel\u001b[0;34m(X, para, sgm, use_spiral)\u001b[0m\n\u001b[1;32m     82\u001b[0m         \u001b[0mT\u001b[0m \u001b[0;34m=\u001b[0m \u001b[0;34m(\u001b[0m\u001b[0mG\u001b[0m\u001b[0;34m*\u001b[0m\u001b[0md\u001b[0m\u001b[0;34m)\u001b[0m \u001b[0;34m*\u001b[0m \u001b[0mT\u001b[0m\u001b[0;34m.\u001b[0m\u001b[0mT\u001b[0m\u001b[0;34m\u001b[0m\u001b[0m\n\u001b[1;32m     83\u001b[0m \u001b[0;31m#        print('T.shape:',T.shape)\u001b[0m\u001b[0;34m\u001b[0m\u001b[0;34m\u001b[0m\u001b[0m\n\u001b[0;32m---> 84\u001b[0;31m         \u001b[0mT\u001b[0m \u001b[0;34m=\u001b[0m \u001b[0mFWHT\u001b[0m\u001b[0;34m(\u001b[0m\u001b[0mT\u001b[0m\u001b[0;34m)\u001b[0m\u001b[0;34m\u001b[0m\u001b[0m\n\u001b[0m\u001b[1;32m     85\u001b[0m \u001b[0;31m#        print('T.shape:',T.shape)\u001b[0m\u001b[0;34m\u001b[0m\u001b[0;34m\u001b[0m\u001b[0m\n\u001b[1;32m     86\u001b[0m         \u001b[0midx1\u001b[0m \u001b[0;34m=\u001b[0m \u001b[0mii\u001b[0m\u001b[0;34m*\u001b[0m\u001b[0md\u001b[0m\u001b[0;34m\u001b[0m\u001b[0m\n",
      "\u001b[0;32m<ipython-input-82-7cdd7db05f36>\u001b[0m in \u001b[0;36mFWHT\u001b[0;34m(X)\u001b[0m\n\u001b[1;32m     28\u001b[0m     \u001b[0;31m# Fast Walsh-Hadamard Transform for 1D signals\u001b[0m\u001b[0;34m\u001b[0m\u001b[0;34m\u001b[0m\u001b[0m\n\u001b[1;32m     29\u001b[0m     \u001b[0;31m# of length n=2^M only (non error-proof for now)\u001b[0m\u001b[0;34m\u001b[0m\u001b[0;34m\u001b[0m\u001b[0m\n\u001b[0;32m---> 30\u001b[0;31m     \u001b[0mx\u001b[0m\u001b[0;34m=\u001b[0m\u001b[0mget_bit_reversed_list\u001b[0m\u001b[0;34m(\u001b[0m\u001b[0mX\u001b[0m\u001b[0;34m)\u001b[0m\u001b[0;34m\u001b[0m\u001b[0m\n\u001b[0m\u001b[1;32m     31\u001b[0m     \u001b[0mx\u001b[0m\u001b[0;34m=\u001b[0m\u001b[0mnp\u001b[0m\u001b[0;34m.\u001b[0m\u001b[0marray\u001b[0m\u001b[0;34m(\u001b[0m\u001b[0mx\u001b[0m\u001b[0;34m)\u001b[0m\u001b[0;34m\u001b[0m\u001b[0m\n\u001b[1;32m     32\u001b[0m     \u001b[0mN\u001b[0m\u001b[0;34m=\u001b[0m\u001b[0mlen\u001b[0m\u001b[0;34m(\u001b[0m\u001b[0mX\u001b[0m\u001b[0;34m)\u001b[0m\u001b[0;34m\u001b[0m\u001b[0m\n",
      "\u001b[0;32m<ipython-input-82-7cdd7db05f36>\u001b[0m in \u001b[0;36mget_bit_reversed_list\u001b[0;34m(l)\u001b[0m\n\u001b[1;32m     21\u001b[0m     \u001b[0mindexs\u001b[0m \u001b[0;34m=\u001b[0m \u001b[0mnp\u001b[0m\u001b[0;34m.\u001b[0m\u001b[0marange\u001b[0m\u001b[0;34m(\u001b[0m\u001b[0mn\u001b[0m\u001b[0;34m)\u001b[0m\u001b[0;34m\u001b[0m\u001b[0m\n\u001b[1;32m     22\u001b[0m     \u001b[0mb\u001b[0m \u001b[0;34m=\u001b[0m \u001b[0;34m[\u001b[0m\u001b[0;34m]\u001b[0m\u001b[0;34m\u001b[0m\u001b[0m\n\u001b[0;32m---> 23\u001b[0;31m     \u001b[0;32mfor\u001b[0m \u001b[0mi\u001b[0m \u001b[0;32min\u001b[0m \u001b[0mbit_reverse_traverse\u001b[0m\u001b[0;34m(\u001b[0m\u001b[0mindexs\u001b[0m\u001b[0;34m)\u001b[0m\u001b[0;34m:\u001b[0m\u001b[0;34m\u001b[0m\u001b[0m\n\u001b[0m\u001b[1;32m     24\u001b[0m         \u001b[0mb\u001b[0m\u001b[0;34m.\u001b[0m\u001b[0mappend\u001b[0m\u001b[0;34m(\u001b[0m\u001b[0ml\u001b[0m\u001b[0;34m[\u001b[0m\u001b[0mi\u001b[0m\u001b[0;34m]\u001b[0m\u001b[0;34m)\u001b[0m\u001b[0;34m\u001b[0m\u001b[0m\n\u001b[1;32m     25\u001b[0m     \u001b[0;32mreturn\u001b[0m \u001b[0mb\u001b[0m\u001b[0;34m\u001b[0m\u001b[0m\n",
      "\u001b[0;32m<ipython-input-82-7cdd7db05f36>\u001b[0m in \u001b[0;36mbit_reverse_traverse\u001b[0;34m(a)\u001b[0m\n\u001b[1;32m      3\u001b[0m     \u001b[0;31m# ryancompton.net/2014/06/05/bit-reversal-permutation-in-python/\u001b[0m\u001b[0;34m\u001b[0m\u001b[0;34m\u001b[0m\u001b[0m\n\u001b[1;32m      4\u001b[0m     \u001b[0mn\u001b[0m \u001b[0;34m=\u001b[0m \u001b[0ma\u001b[0m\u001b[0;34m.\u001b[0m\u001b[0mshape\u001b[0m\u001b[0;34m[\u001b[0m\u001b[0;36m0\u001b[0m\u001b[0;34m]\u001b[0m\u001b[0;34m\u001b[0m\u001b[0m\n\u001b[0;32m----> 5\u001b[0;31m     \u001b[0;32massert\u001b[0m\u001b[0;34m(\u001b[0m\u001b[0;32mnot\u001b[0m \u001b[0mn\u001b[0m\u001b[0;34m&\u001b[0m\u001b[0;34m(\u001b[0m\u001b[0mn\u001b[0m\u001b[0;34m-\u001b[0m\u001b[0;36m1\u001b[0m\u001b[0;34m)\u001b[0m \u001b[0;34m)\u001b[0m \u001b[0;31m# assert that n is a power of 2\u001b[0m\u001b[0;34m\u001b[0m\u001b[0m\n\u001b[0m\u001b[1;32m      6\u001b[0m     \u001b[0;32mif\u001b[0m \u001b[0mn\u001b[0m \u001b[0;34m==\u001b[0m \u001b[0;36m1\u001b[0m\u001b[0;34m:\u001b[0m\u001b[0;34m\u001b[0m\u001b[0m\n\u001b[1;32m      7\u001b[0m         \u001b[0;32myield\u001b[0m \u001b[0ma\u001b[0m\u001b[0;34m[\u001b[0m\u001b[0;36m0\u001b[0m\u001b[0;34m]\u001b[0m\u001b[0;34m\u001b[0m\u001b[0m\n",
      "\u001b[0;31mAssertionError\u001b[0m: "
     ]
    }
   ],
   "source": [
    "para = fastfood_params(n,d)\n",
    "#print('Fastfood params:',params)\n",
    "\n",
    "phi1 = fastfood_forkernel(X1,para,sgm)\n",
    "print('phi1 =',phi1,', len(phi1) =',len(phi1))\n",
    "K_appro = np.dot(phi1[0].T,phi1[1])\n",
    "print('K_appro =',K_appro)\n",
    "\n",
    "phi2 = fastfood_forkernel(X2,para,sgm)\n",
    "print('phi2 =',phi2,', len(phi2) =',len(phi2))"
   ]
  },
  {
   "cell_type": "code",
   "execution_count": null,
   "metadata": {
    "collapsed": true
   },
   "outputs": [],
   "source": []
  },
  {
   "cell_type": "code",
   "execution_count": null,
   "metadata": {
    "collapsed": true
   },
   "outputs": [],
   "source": []
  },
  {
   "cell_type": "code",
   "execution_count": null,
   "metadata": {
    "collapsed": true
   },
   "outputs": [],
   "source": []
  }
 ],
 "metadata": {
  "kernelspec": {
   "display_name": "Python 2",
   "language": "python",
   "name": "python2"
  },
  "language_info": {
   "codemirror_mode": {
    "name": "ipython",
    "version": 2
   },
   "file_extension": ".py",
   "mimetype": "text/x-python",
   "name": "python",
   "nbconvert_exporter": "python",
   "pygments_lexer": "ipython2",
   "version": "2.7.6"
  }
 },
 "nbformat": 4,
 "nbformat_minor": 0
}
